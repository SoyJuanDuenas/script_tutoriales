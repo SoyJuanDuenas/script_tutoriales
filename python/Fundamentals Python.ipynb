{
 "cells": [
  {
   "cell_type": "markdown",
   "id": "a1359538",
   "metadata": {},
   "source": [
    "<center><h1>FUNDAMENTALS PYTHON</h1></center>\n",
    "<h2>Juan David Dueñas Garavito</h2>"
   ]
  },
  {
   "cell_type": "markdown",
   "id": "d776b76c",
   "metadata": {},
   "source": [
    "<h2>Introducción</h2>\n",
    "\n",
    "Python es un lenguaje de programación interpretado, de alto nivel, lento, facil de aprender y comunmente usado en analisis y manejo de datos por lo cual es multiparadigma.\n",
    "\n",
    "Python se puede ejecutar de dos principales maneras, desde un editor de texto como VSCode o desde un Notebook como lo puede ser Jupyter Notebook, Colab o Pycharm, la ventaja de los segundos es que nos permiten trabajar con texto enriquecido y ver los outputs por partes de nuestro codigo, los cual nos da una flexibilidad muy alta.\n"
   ]
  },
  {
   "cell_type": "markdown",
   "id": "3416697a",
   "metadata": {},
   "source": [
    "<h2>Tabla de contenidos</h2>\n",
    "\n",
    "    - Comentarios\n",
    "    - Variables y tipo de objetos\n",
    "    - Operadores Aritméticos\n",
    "    - Operadores Logicos y de Comparación\n",
    "    - Opciones de Formato\n",
    "    - Funciones útiles\n",
    "    - Colecciones\n",
    "        - List / Listas\n",
    "        - Tuplas\n",
    "        - Sets / Conjuntos\n",
    "        - Dicts / Diccionarios\n",
    "    - Estructuras de Control\n",
    "        - Estructuras de Decisión / Condicionales\n",
    "        - Estructuras de Bucles\n",
    "        - Estructuras de Salto\n",
    "    - Funciones\n",
    "        - Configuración de parametros\n",
    "        - Return\n",
    "    - Desempaquetado de datos\n",
    "        - Operadores de desempaquetado\n",
    "        "
   ]
  },
  {
   "cell_type": "markdown",
   "id": "6f7a20dc",
   "metadata": {},
   "source": [
    "<h2>Comentarios</h2>\n",
    "Es una buena practica comentar nuestro codigo, esto significa ir colocando texto no ejecutable que explique que esta haciendo nuestro codigo, esto facilitará más adelante nuestra vida al corregir el codigo y a otras personas que quieran entender lo que estamos haciendo, para comentar el codigo usamos el #, con esto el texto que se encuentre despues del numeral no será ejecutado"
   ]
  },
  {
   "cell_type": "code",
   "execution_count": null,
   "id": "2690e3ef",
   "metadata": {},
   "outputs": [],
   "source": [
    "#Esto es un comentario"
   ]
  },
  {
   "cell_type": "markdown",
   "id": "fe0f035a",
   "metadata": {},
   "source": [
    "<h2>Variables y tipo de objetos</h2>\n",
    "Diremos que una variable es un \"contenedor de información\" en la que podemos \"guardar\" diferntes objetos, generalmente se escriben en minúscula, sin espacios ni tildes, comas, puntos, signos de interrogación o cualquier otro caracter a excepción del guión bajo, en Python no es necesario declarar explicitamente el tipo de objeto que contiene una variable o colección.\n",
    "\n",
    "Para declarar una variable usamos:"
   ]
  },
  {
   "cell_type": "code",
   "execution_count": null,
   "id": "2a566d8d",
   "metadata": {},
   "outputs": [],
   "source": [
    "nombre_de_la_variable_0 = \"Valor De La Variable\""
   ]
  },
  {
   "cell_type": "markdown",
   "id": "0d89acd9",
   "metadata": {},
   "source": [
    "Los objetos que guardamos en las variables pueden ser de diferentes tipos y dependiendo del tipo de objeto cambiamos la forma de guardarlo"
   ]
  },
  {
   "cell_type": "code",
   "execution_count": null,
   "id": "27aee379",
   "metadata": {},
   "outputs": [],
   "source": [
    "objeto_int = 2\n",
    "objeto_string = \"Hola Mundo\"\n",
    "objeto_float = 2.5\n",
    "objeto_bool = False"
   ]
  },
  {
   "cell_type": "markdown",
   "id": "5e679fad",
   "metadata": {},
   "source": [
    "Puede darse el caso de que requiero convertir un objeto de un tipo a otro tipo, para esto debo usar el type casting el cual es alguna de las siguientes funciones según corresponda"
   ]
  },
  {
   "cell_type": "code",
   "execution_count": null,
   "id": "c08721d8",
   "metadata": {},
   "outputs": [],
   "source": [
    "int(n_objeto)\n",
    "float(n_objeto)\n",
    "str(n_objeto)\n",
    "bool(n_objeto)"
   ]
  },
  {
   "cell_type": "markdown",
   "id": "6a23b2af",
   "metadata": {},
   "source": [
    "<h2>Operadores Aritméticos</h2>\n",
    "Python incluye varios operadores aritméticos que se utilizan para realizar operaciones matemáticas en números. Los operadores aritméticos incluyen:\n",
    "\n",
    "- `+`: suma dos números\n",
    "- `-`: resta dos números\n",
    "- `*` : multiplica dos números\n",
    "- `/`: divide dos números (devuelve un número flotante)\n",
    "- `//`: divide dos números (devuelve la parte entera de la división)\n",
    "- `%`: devuelve el resto de la división entre dos números\n",
    "- `**`: eleva un número a una potencia\n",
    "\n",
    "A continuación, algunos ejemplos:"
   ]
  },
  {
   "cell_type": "markdown",
   "id": "3c0455ff",
   "metadata": {},
   "source": [
    "Python incluye varios operadores aritméticos que se utilizan para realizar operaciones matemáticas en números. Los operadores aritméticos incluyen:\n",
    "\n",
    "- `+`: suma dos números\n",
    "- `-`: resta dos números\n",
    "- `*` : multiplica dos números\n",
    "- `/`: divide dos números (devuelve un número flotante)\n",
    "- `//`: divide dos números (devuelve la parte entera de la división)\n",
    "- `%`: devuelve el resto de la división entre dos números\n",
    "- `**`: eleva un número a una potencia\n",
    "\n",
    "A continuación, algunos ejemplos:"
   ]
  },
  {
   "cell_type": "markdown",
   "id": "ed83ded0",
   "metadata": {},
   "source": [
    "También podemos utilizar operadores aritméticos con variables y asignar el resultado a otra variable:"
   ]
  },
  {
   "cell_type": "code",
   "execution_count": null,
   "id": "310ae24c",
   "metadata": {},
   "outputs": [],
   "source": [
    "a = 10\n",
    "b = 5\n",
    "\n",
    "c = a + b\n",
    "d = a * b\n",
    "\n",
    "print(c) # Output: 15\n",
    "print(d) # Output: 50\n"
   ]
  },
  {
   "cell_type": "markdown",
   "id": "b9ce2a07",
   "metadata": {},
   "source": [
    "Además, Python sigue las reglas convencionales de precedencia de operadores aritméticos. Esto significa que las operaciones dentro de paréntesis se evalúan primero, seguidas de la exponenciación, la multiplicación y la división, y finalmente la suma y la resta. Podemos utilizar paréntesis para forzar un orden de evaluación diferente"
   ]
  },
  {
   "cell_type": "markdown",
   "id": "e0c4eda2",
   "metadata": {},
   "source": [
    "<h2>Operadores Logicos y de comparación</h2>\n",
    "\n",
    "En Python, existen tres operadores lógicos que se utilizan para combinar expresiones lógicas y producir un resultado verdadero o falso:\n",
    "\n",
    "- `and`: Este operador devuelve verdadero si ambos operandos son verdaderos. En caso contrario, devuelve falso.\n",
    "- `or`: Este operador devuelve verdadero si al menos uno de los operandos es verdadero. Si ambos operandos son falsos, devuelve falso.\n",
    "- `not`: Este operador devuelve el valor opuesto al resultado de la expresión. Si la expresión es verdadera, devuelve falso y si la expresión es falsa, devuelve verdadero.\n",
    "\n",
    "Además, se pueden utilizar los operadores de comparación para crear expresiones lógicas. Los operadores de comparación son los siguientes:\n",
    "\n",
    "- `==` Este operador devuelve verdadero si los operandos son iguales.\n",
    "- `!=` Este operador devuelve verdadero si los operandos son diferentes.\n",
    "- `>` Este operador devuelve verdadero si el operando izquierdo es mayor que el operando derecho.\n",
    "- `<` Este operador devuelve verdadero si el operando izquierdo es menor que el operando derecho.\n",
    "- `>=` Este operador devuelve verdadero si el operando izquierdo es mayor o igual que el operando derecho.\n",
    "- `<=` Este operador devuelve verdadero si el operando izquierdo es menor o igual que el operando derecho."
   ]
  },
  {
   "cell_type": "markdown",
   "id": "1e86a952",
   "metadata": {},
   "source": [
    "<h2>Opciones de Formato</h2>\n",
    "\n",
    "Las opciones de formato en Python se refieren a las diferentes formas en que se pueden dar formato a las cadenas de caracteres para incluir valores de variables y otros elementos. El objetivo de las opciones de formato es producir cadenas de caracteres que sean fáciles de leer y entender para los usuarios finales.\n",
    "\n",
    "Python ofrece varias opciones de formato para dar formato a cadenas de caracteres, entre ellas:\n",
    "\n",
    "1. Formato de cadenas f: Las cadenas f o cadenas de formato le permiten incluir valores de variables dentro de una cadena de caracteres colocando los nombres de las variables entre llaves { }"
   ]
  },
  {
   "cell_type": "code",
   "execution_count": null,
   "id": "9f28634b",
   "metadata": {},
   "outputs": [],
   "source": [
    "nombre = \"Juan\"\n",
    "edad = 25\n",
    "print(f\"Hola, mi nombre es {nombre} y tengo {edad} años\")"
   ]
  },
  {
   "cell_type": "markdown",
   "id": "e6b88819",
   "metadata": {},
   "source": [
    " 2. Método de formato str.format(): El método de formato str.format() le permite especificar valores de     variables dentro de una cadena de caracteres mediante la utilización de llaves {}."
   ]
  },
  {
   "cell_type": "code",
   "execution_count": null,
   "id": "c40075d4",
   "metadata": {},
   "outputs": [],
   "source": [
    "nombre = \"Juan\"\n",
    "edad = 25\n",
    "print(\"Hola, mi nombre es {} y tengo {} años\".format(nombre, edad))"
   ]
  },
  {
   "cell_type": "markdown",
   "id": "a85aff4a",
   "metadata": {},
   "source": [
    " 3. Utilización de operadores de formato %: Este método es similar al método de formato str.format(),       pero utiliza operadores de formato % para especificar los valores de las variables.\n",
    "    \n",
    "    Muy importante tener en cuenta que:\n",
    "    \n",
    "    - %s - Cadena (O cualquier objeto, como los números al representarlos en una cadena de texto)\n",
    "    - %d - Enteros\n",
    "    - %f - Números de punto flotante\n",
    "    - %.f - Números de punto flotante con una cantidad de números * fijos a la derecha del punto.\n",
    "    - %b - Enteros con representacion bin (minúscula/mayúscula)\n",
    "    - %x - Enteros con representacion hex (minúscula/mayúscula)\n",
    "    - %o - Enteros con representacion oct (minúscula/mayúscula)"
   ]
  },
  {
   "cell_type": "code",
   "execution_count": null,
   "id": "d6fb2e64",
   "metadata": {},
   "outputs": [],
   "source": [
    "nombre = \"Juan\"\n",
    "edad = 25\n",
    "print(\"Hola, mi nombre es %s y tengo %d años\" % (nombre, edad))"
   ]
  },
  {
   "cell_type": "markdown",
   "id": "0aab71f3",
   "metadata": {},
   "source": [
    "## Colecciones\n",
    "\n",
    "Una colección es un objeto que puede contener varios valores o elementos, como números, cadenas de texto, objetos u otras colecciones. Las colecciones son una parte fundamental del lenguaje Python y se utilizan en muchas situaciones para almacenar y manipular datos.\n",
    "\n",
    "Las principales colecciones que podemos encontrar son:\n",
    "\n",
    "- Variables\n",
    "- Strings\n",
    "- Sets / Conjuntos\n",
    "- Lists / Listas\n",
    "- Dicts / Diccionarios\n",
    "- Tuplas\n",
    "\n",
    "### Lists / Listas\n",
    "\n",
    "Una lista en Python es una colección ordenada y mutable de elementos separados por comas y encerrados entre corchetes cuadrados [ ]. Los elementos pueden ser de diferentes tipos de datos, como números, cadenas de texto, booleanos, etc. Las listas se utilizan para almacenar colecciones de elementos relacionados entre sí y se pueden modificar añadiendo, eliminando o modificando elementos. Las listas también se pueden utilizar para representar matrices y vectores.\n",
    "\n",
    "Las listas tienen un indice que nos sirve para acceder a cada uno de los elementos pertenecientes a esta lista, es decir el índice de una lista, especifica la posición de un elemento en la lista. En Python, el índice comienza en cero, lo que significa que el primer elemento de la lista tiene un índice de 0, el segundo elemento tiene un índice de 1, y así sucesivamente.\n",
    "\n",
    "Para acceder a un elemento específico de la lista, podemos usar su índice dentro de corchetes. Por ejemplo, para acceder al segundo elemento de una lista llamada `mi_lista`, usaríamos `mi_lista[1]`.\n",
    "\n",
    "También podemos usar índices negativos para acceder a elementos de la lista desde el final. Por ejemplo, `mi_lista[-1]` accedería al último elemento de la lista.\n",
    "\n",
    "A continuación, algunos ejemplos:"
   ]
  },
  {
   "cell_type": "code",
   "execution_count": null,
   "id": "3e209057",
   "metadata": {},
   "outputs": [],
   "source": [
    "mi_lista = [1, 2, 3, 4, 5]\n",
    "print(mi_lista[0]) # Output: 1\n",
    "print(mi_lista[2]) # Output: 3\n",
    "print(mi_lista[-1]) # Output: 5"
   ]
  },
  {
   "cell_type": "markdown",
   "id": "379a2e52",
   "metadata": {},
   "source": [
    "También podemos modificar elementos de la lista utilizando su índice. Por ejemplo, para cambiar el segundo elemento de mi_lista a 10, podemos hacer lo siguiente:"
   ]
  },
  {
   "cell_type": "code",
   "execution_count": null,
   "id": "71b41b74",
   "metadata": {},
   "outputs": [],
   "source": [
    "mi_lista[1] = 10\n",
    "print(mi_lista) # Output: [1, 10, 3, 4, 5"
   ]
  },
  {
   "cell_type": "markdown",
   "id": "d8786d9d",
   "metadata": {},
   "source": [
    "Como todas las clases hay unos metodos que nos permiten editar esto \n",
    "\n",
    "### Metodos de las list / listas\n",
    "\n",
    "Los principales métodos de la clase `list` en Python incluyen:\n",
    "\n",
    "- `append()`: agrega un elemento al final de la lista. Ejemplo: `mi_lista.append(6)`\n",
    "- `insert()`: inserta un elemento en una posición específica de la lista. Ejemplo: `mi_lista.insert(2, 7)` (inserta el número 7 en la posición 2 de la lista)\n",
    "- `remove()`: elimina el primer elemento de la lista que coincide con el valor especificado. Ejemplo: `mi_lista.remove(3)` (elimina el número 3 de la lista)\n",
    "- `pop()`: elimina el elemento en la posición especificada de la lista y devuelve ese elemento. Si no se especifica una posición, se elimina y devuelve el último elemento de la lista. Ejemplo: `mi_lista.pop(2)` (elimina el elemento en la posición 2 de la lista y devuelve ese elemento)\n",
    "- `clear()`: elimina todos los elementos de la lista. Ejemplo: `mi_lista.clear()`\n",
    "- `sort()`: ordena los elementos de la lista en orden ascendente. Ejemplo: `mi_lista.sort()`\n",
    "- `reverse()`: invierte el orden de los elementos de la lista. Ejemplo: `mi_lista.reverse()`\n",
    "\n",
    "Aquí hay un ejemplo que utiliza algunos de estos métodos:"
   ]
  },
  {
   "cell_type": "code",
   "execution_count": null,
   "id": "98b2a75c",
   "metadata": {},
   "outputs": [],
   "source": [
    "mi_lista = [1, 2, 3, 4, 5]\n",
    "mi_lista.append(6)\n",
    "mi_lista.insert(2, 7)\n",
    "mi_lista.remove(3)\n",
    "eliminado = mi_lista.pop(2)\n",
    "mi_lista.sort()\n",
    "mi_lista.reverse()\n",
    "print(mi_lista) # Output: [6, 5, 4, 2, 1]"
   ]
  },
  {
   "cell_type": "markdown",
   "id": "3a7a10c7",
   "metadata": {},
   "source": [
    "### Tuplas\n",
    "\n",
    "Una tupla en Python es una colección ordenada e inmutable de elementos separados por comas y encerrados entre paréntesis ( ). Los elementos pueden ser de diferentes tipos de datos, como números, cadenas de texto, booleanos, etc. Las tuplas se utilizan para almacenar colecciones de elementos relacionados entre sí y son similares a las listas, pero no se pueden modificar añadiendo, eliminando o modificando elementos después de que se han creado.\n",
    "\n",
    "Las tuplas al igual que las listas tienen un índice que nos sirve para acceder a cada uno de los elementos pertenecientes a esta tupla, es decir el índice de una tupla, especifica la posición de un elemento en la tupla. En Python, el índice comienza en cero, lo que significa que el primer elemento de la tupla tiene un índice de 0, el segundo elemento tiene un índice de 1, y así sucesivamente.\n",
    "\n",
    "Para acceder a un elemento específico de la tupla, podemos usar su índice dentro de paréntesis. Por ejemplo, para acceder al segundo elemento de una tupla llamada `mi_tupla`, usaríamos `mi_tupla[1]`.\n",
    "\n",
    "También podemos usar índices negativos para acceder a elementos de la tupla desde el final. Por ejemplo, `mi_tupla[-1]` accedería al último elemento de la tupla.\n",
    "\n",
    "A continuación, algunos ejemplos:"
   ]
  },
  {
   "cell_type": "code",
   "execution_count": 1,
   "id": "485b7606",
   "metadata": {},
   "outputs": [
    {
     "name": "stdout",
     "output_type": "stream",
     "text": [
      "1\n",
      "3\n",
      "5\n"
     ]
    }
   ],
   "source": [
    "mi_tupla = (1, 2, 3, 4, 5)\n",
    "print(mi_tupla[0]) # Output: 1\n",
    "print(mi_tupla[2]) # Output: 3\n",
    "print(mi_tupla[-1]) # Output: 5"
   ]
  },
  {
   "cell_type": "markdown",
   "id": "3dc8f770",
   "metadata": {},
   "source": [
    "Las tuplas son útiles cuando queremos almacenar datos que no deben cambiar, como coordenadas o constantes. También se usan a menudo para devolver múltiples valores de una función.\n",
    "\n",
    "Aunque las tuplas son inmutables, podemos concatenar dos o más tuplas para crear una nueva tupla que contenga los elementos de ambas tuplas:"
   ]
  },
  {
   "cell_type": "code",
   "execution_count": null,
   "id": "5058d599",
   "metadata": {},
   "outputs": [],
   "source": [
    "mi_tupla = (1, 2, 3)\n",
    "otra_tupla = (4, 5, 6)\n",
    "nueva_tupla = mi_tupla + otra_tupla\n",
    "print(nueva_tupla) # Output: (1, 2, 3, 4, 5, 6)"
   ]
  },
  {
   "cell_type": "markdown",
   "id": "37dcfa4d",
   "metadata": {},
   "source": [
    "### Sets / Conjuntos\n",
    "\n",
    "Un conjunto en Python es una colección desordenada y mutable de elementos únicos separados por comas y encerrados entre llaves { }. Los elementos pueden ser de diferentes tipos de datos, como números, cadenas de texto, booleanos, etc. Los conjuntos se utilizan para almacenar colecciones de elementos relacionados entre sí y se pueden modificar añadiendo o eliminando elementos. Los conjuntos también se pueden utilizar para realizar operaciones matemáticas comunes, como la unión, la intersección y la diferencia.\n",
    "\n",
    "Para crear un conjunto vacío, podemos utilizar la función `set()`:"
   ]
  },
  {
   "cell_type": "code",
   "execution_count": null,
   "id": "557c484e",
   "metadata": {},
   "outputs": [],
   "source": [
    "mi_set = set()\n",
    "print(mi_set) # Output: set()"
   ]
  },
  {
   "cell_type": "markdown",
   "id": "0b6bf5b8",
   "metadata": {},
   "source": [
    "Para crear un conjunto con elementos, podemos hacer lo siguiente:"
   ]
  },
  {
   "cell_type": "code",
   "execution_count": null,
   "id": "73c337f1",
   "metadata": {},
   "outputs": [],
   "source": [
    "mi_set = {1, 2, 3}\n",
    "print(mi_set) # Output: {1, 2, 3}"
   ]
  },
  {
   "cell_type": "markdown",
   "id": "5c9d5e53",
   "metadata": {},
   "source": [
    "También podemos crear un conjunto a partir de una lista:"
   ]
  },
  {
   "cell_type": "code",
   "execution_count": null,
   "id": "826a5b30",
   "metadata": {},
   "outputs": [],
   "source": [
    "mi_lista = [1, 2, 3, 3, 4]\n",
    "mi_set = set(mi_lista)\n",
    "print(mi_set) # Output: {1, 2, 3, 4}"
   ]
  },
  {
   "cell_type": "markdown",
   "id": "d2e5d8b2",
   "metadata": {},
   "source": [
    "### metodos de la clase Sets / Conjuntos\n",
    "\n",
    "Podemos agregar elementos a un conjunto utilizando el método `add()`:"
   ]
  },
  {
   "cell_type": "code",
   "execution_count": null,
   "id": "06bf9085",
   "metadata": {},
   "outputs": [],
   "source": [
    "mi_set = {1, 2, 3}\n",
    "mi_set.add(4)\n",
    "print(mi_set) # Output: {1, 2, 3, 4}"
   ]
  },
  {
   "cell_type": "markdown",
   "id": "e53880e8",
   "metadata": {},
   "source": [
    "Podemos eliminar elementos de un conjunto utilizando el método `remove()`:"
   ]
  },
  {
   "cell_type": "code",
   "execution_count": null,
   "id": "6f0b0906",
   "metadata": {},
   "outputs": [],
   "source": [
    "mi_set = {1, 2, 3}\n",
    "mi_set.remove(2)\n",
    "print(mi_set) # Output: {1, 3}"
   ]
  },
  {
   "cell_type": "markdown",
   "id": "da91b354",
   "metadata": {},
   "source": [
    "Podemos realizar operaciones matemáticas comunes en conjuntos, como la unión, la intersección y la diferencia. Por ejemplo, para obtener la unión de dos conjuntos, podemos utilizar el método `union()` o el operador `|`:"
   ]
  },
  {
   "cell_type": "code",
   "execution_count": null,
   "id": "993d1cf6",
   "metadata": {},
   "outputs": [],
   "source": [
    "set1 = {1, 2, 3}\n",
    "set2 = {3, 4, 5}\n",
    "union = set1.union(set2)\n",
    "print(union) # Output: {1, 2, 3, 4, 5}\n",
    "\n",
    "union = set1 | set2\n",
    "print(union) # Output: {1, 2, 3, 4, 5}\n"
   ]
  },
  {
   "cell_type": "markdown",
   "id": "e882f652",
   "metadata": {},
   "source": [
    "Para obtener la intersección de dos conjuntos, podemos utilizar el método `intersection()` o el operador `&`:"
   ]
  },
  {
   "cell_type": "code",
   "execution_count": null,
   "id": "95fcb908",
   "metadata": {},
   "outputs": [],
   "source": [
    "set1 = {1, 2, 3}\n",
    "set2 = {3, 4, 5}\n",
    "interseccion = set1.intersection(set2)\n",
    "print(interseccion) # Output: {3}\n",
    "\n",
    "interseccion = set1 & set2\n",
    "print(interseccion) # Output: {3}\n"
   ]
  },
  {
   "cell_type": "markdown",
   "id": "bdf7b5c0",
   "metadata": {},
   "source": [
    "Para obtener la diferencia entre dos conjuntos, podemos utilizar el método difference() o el operador -:"
   ]
  },
  {
   "cell_type": "code",
   "execution_count": null,
   "id": "bfa516a5",
   "metadata": {},
   "outputs": [],
   "source": [
    "set1 = {1, 2, 3}\n",
    "set2 = {3, 4, 5}\n",
    "diferencia = set1.difference(set2)\n",
    "print(diferencia) # Output: {1, 2}\n",
    "\n",
    "diferencia = set1 - set2\n",
    "print(diferencia) # Output: {1, 2}"
   ]
  },
  {
   "cell_type": "markdown",
   "id": "9f6f66f7",
   "metadata": {},
   "source": [
    "También podemos realizar operaciones de comparación en conjuntos, como verificar si un conjunto es subconjunto de otro conjunto. Por ejemplo, para verificar si `set1` es un subconjunto de `set2`, podemos utilizar el método `issubset()`:"
   ]
  },
  {
   "cell_type": "code",
   "execution_count": null,
   "id": "3e1c6056",
   "metadata": {},
   "outputs": [],
   "source": [
    "set1 = {1, 2, 3}\n",
    "set2 = {1, 2, 3, 4, 5}\n",
    "print(set1.issubset(set2)) # Output: True\n"
   ]
  },
  {
   "cell_type": "markdown",
   "id": "3ad999f5",
   "metadata": {},
   "source": [
    "Podemos realizar otras operaciones comunes en conjuntos, como verificar si dos conjuntos son iguales (`==`), verificar si un elemento está en un conjunto (`in`), y obtener la longitud de un conjunto (`len()`).\n",
    "\n",
    "Los conjuntos son útiles cuando queremos almacenar datos únicos y realizar operaciones matemáticas comunes en ellos."
   ]
  },
  {
   "cell_type": "markdown",
   "id": "b82cb9fd",
   "metadata": {},
   "source": [
    "### Dicts / Diccionarios\n",
    "\n",
    "Un diccionario en Python es una colección desordenada y mutable de pares clave-valor separados por comas y encerrados entre llaves { }. Cada clave en el diccionario debe ser única y los valores pueden ser de diferentes tipos de datos, como números, cadenas de texto, booleanos, listas, conjuntos, tuplas o incluso otros diccionarios. Los diccionarios se utilizan para almacenar colecciones de elementos relacionados entre sí y se pueden modificar añadiendo, eliminando o modificando elementos.\n",
    "\n",
    "Para crear un diccionario vacío, podemos utilizar la función `dict()`:"
   ]
  },
  {
   "cell_type": "code",
   "execution_count": null,
   "id": "6e49b650",
   "metadata": {},
   "outputs": [],
   "source": [
    "mi_dict = dict()\n",
    "print(mi_dict) # Output: {}"
   ]
  },
  {
   "cell_type": "markdown",
   "id": "d137b1a3",
   "metadata": {},
   "source": [
    "Para crear un diccionario con elementos, podemos hacer lo siguiente:"
   ]
  },
  {
   "cell_type": "code",
   "execution_count": null,
   "id": "e88d7fca",
   "metadata": {},
   "outputs": [],
   "source": [
    "mi_dict = {\"nombre\": \"Juan\", \"apellido\": \"Pérez\", \"edad\": 30}\n",
    "print(mi_dict) # Output: {'nombre': 'Juan', 'apellido': 'Pérez', 'edad': 30}"
   ]
  },
  {
   "cell_type": "markdown",
   "id": "a996ab81",
   "metadata": {},
   "source": [
    "También podemos crear un diccionario a partir de una lista de pares clave-valor:"
   ]
  },
  {
   "cell_type": "code",
   "execution_count": null,
   "id": "a47420ba",
   "metadata": {},
   "outputs": [],
   "source": [
    "mi_lista = [(\"nombre\", \"Juan\"), (\"apellido\", \"Pérez\"), (\"edad\", 30)]\n",
    "mi_dict = dict(mi_lista)\n",
    "print(mi_dict) # Output: {'nombre': 'Juan', 'apellido': 'Pérez', 'edad': 30}"
   ]
  },
  {
   "cell_type": "markdown",
   "id": "881726d2",
   "metadata": {},
   "source": [
    "Podemos acceder a los valores de un diccionario utilizando su clave. Por ejemplo, para acceder al valor correspondiente a la clave \"nombre\" en un diccionario llamado `mi_dict`, podemos hacer lo siguiente:"
   ]
  },
  {
   "cell_type": "code",
   "execution_count": null,
   "id": "e429c3d8",
   "metadata": {},
   "outputs": [],
   "source": [
    "mi_dict = {\"nombre\": \"Juan\", \"apellido\": \"Pérez\", \"edad\": 30}\n",
    "print(mi_dict[\"nombre\"]) # Output: Juan"
   ]
  },
  {
   "cell_type": "markdown",
   "id": "bdfa1e57",
   "metadata": {},
   "source": [
    "También podemos utilizar el método `get()` para acceder a los valores de un diccionario. La ventaja de `get()` es que si la clave no existe en el diccionario, devuelve un valor predeterminado en lugar de generar un error:"
   ]
  },
  {
   "cell_type": "code",
   "execution_count": null,
   "id": "d119f280",
   "metadata": {},
   "outputs": [],
   "source": [
    "mi_dict = {\"nombre\": \"Juan\", \"apellido\": \"Pérez\", \"edad\": 30}\n",
    "print(mi_dict.get(\"nombre\", \"Valor predeterminado\")) # Output: Juan\n",
    "print(mi_dict.get(\"direccion\", \"Valor predeterminado\")) # Output: Valor predeterminado"
   ]
  },
  {
   "cell_type": "markdown",
   "id": "4f3f1f4e",
   "metadata": {},
   "source": [
    "Podemos modificar los valores de un diccionario utilizando su clave. Por ejemplo, para cambiar el valor correspondiente a la clave \"edad\" en un diccionario llamado mi_dict a 40, podemos hacer lo siguiente:"
   ]
  },
  {
   "cell_type": "code",
   "execution_count": null,
   "id": "b20aa81b",
   "metadata": {},
   "outputs": [],
   "source": [
    "mi_dict = {\"nombre\": \"Juan\", \"apellido\": \"Pérez\", \"edad\": 30}\n",
    "mi_dict[\"edad\"] = 40\n",
    "print(mi_dict) # Output: {'nombre': 'Juan', 'apellido': 'Pérez', 'edad': 40}"
   ]
  },
  {
   "cell_type": "markdown",
   "id": "91bbd9a2",
   "metadata": {},
   "source": [
    "Si la clave no existe en el diccionario, se agrega un nuevo par clave-valor al diccionario:"
   ]
  },
  {
   "cell_type": "code",
   "execution_count": null,
   "id": "8d271b8f",
   "metadata": {},
   "outputs": [],
   "source": [
    "mi_dict = {\"nombre\": \"Juan\", \"apellido\": \"Pérez\", \"edad\": 30}\n",
    "mi_dict[\"direccion\"] = \"Calle 123\"\n",
    "print(mi_dict) # Output: {'nombre': 'Juan', 'apellido': 'Pérez', 'edad': 30, 'direccion': 'Calle 123'}"
   ]
  },
  {
   "cell_type": "markdown",
   "id": "5fa81320",
   "metadata": {},
   "source": [
    "Podemos eliminar elementos de un diccionario utilizando la palabra clave `del` y la clave correspondiente:"
   ]
  },
  {
   "cell_type": "code",
   "execution_count": null,
   "id": "21e60e35",
   "metadata": {},
   "outputs": [],
   "source": [
    "mi_dict = {\"nombre\": \"Juan\", \"apellido\": \"Pérez\", \"edad\": 30}\n",
    "del mi_dict[\"edad\"]\n",
    "print(mi_dict) # Output: {'nombre': 'Juan', 'apellido': 'Pérez'}"
   ]
  },
  {
   "cell_type": "markdown",
   "id": "181e05f5",
   "metadata": {},
   "source": [
    "Como todas las clases hay unos métodos que nos permiten editar esto.\n",
    "\n",
    "### Métodos de la clase Dicts / Diccionarios\n",
    "\n",
    "Los principales métodos de la clase `dict` en Python incluyen:\n",
    "\n",
    "- `keys()`: devuelve una lista con las claves del diccionario. Ejemplo: `mi_dict.keys()`\n",
    "- `values()`: devuelve una lista con los valores del diccionario. Ejemplo: `mi_dict.values()`\n",
    "- `items()`: devuelve una lista de tuplas con los pares clave-valor del diccionario. Ejemplo: `mi_dict.items()`\n",
    "- `clear()`: elimina todos los elementos del diccionario. Ejemplo: `mi_dict.clear()`\n",
    "- `update()`: actualiza el diccionario con los pares clave-valor de otro diccionario o de una lista de pares clave-valor. Ejemplo: `mi_dict.update({\"direccion\": \"Calle 123\", \"telefono\": \"555-1234\"})`\n",
    "\n",
    "Aquí hay un ejemplo que utiliza algunos de estos métodos:"
   ]
  },
  {
   "cell_type": "code",
   "execution_count": null,
   "id": "171c5dce",
   "metadata": {},
   "outputs": [],
   "source": [
    "mi_dict = {\"nombre\": \"Juan\", \"apellido\": \"Pérez\", \"edad\": 30}\n",
    "claves = mi_dict.keys()\n",
    "valores = mi_dict.values()\n",
    "items = mi_dict.items()\n",
    "mi_dict.update({\"direccion\": \"Calle 123\", \"telefono\": \"555-1234\"})\n",
    "print(mi_dict) # Output: {'nombre': 'Juan', 'apellido': 'Pérez', 'edad': 30, 'direccion': 'Calle 123', 'telefono': '555-1234'}"
   ]
  },
  {
   "cell_type": "markdown",
   "id": "8e8d764c",
   "metadata": {},
   "source": [
    "## Estructuras de Control\n",
    "\n",
    "Una estructura de control en Python es una construcción sintáctica que permite controlar el flujo de ejecución de un programa. Las estructuras de control permiten decidir qué instrucciones se ejecutan en función de ciertas condiciones o criterios, lo que proporciona una forma de automatizar y controlar la ejecución del código.\n",
    "\n",
    "Las estructuras de control más comunes en Python son las siguientes:\n",
    "\n",
    "- Estructuras de decisión: if, if-else, if-elif-else.\n",
    "- Estructuras de bucle: for, while.\n",
    "- Estructuras de salto: break, continue.\n",
    "\n",
    "Estas estructuras de control permiten al programador tomar decisiones y realizar tareas repetitivas de manera más eficiente y flexible. Por ejemplo, una estructura de control puede permitir que un programa repita una acción varias veces hasta que se cumpla una determinada condición o que seleccione un camino de ejecución específico en función de una condición determinada."
   ]
  },
  {
   "cell_type": "markdown",
   "id": "e8701e7b",
   "metadata": {},
   "source": [
    "### Estructuras de Decisión / Condicionales\n",
    "\n",
    "Las condiciones son sentencias cuyo resultado puede ser`True` o `False`, a diferencia de los comparadores, las condiciones son un tipo de estructura de control que altera el flujo de ejecución de un programa; de esta manera el programa continua si el resultado es verdadera `True`, de lo contrario el programa no lleva acabo determinada acción, las principales estructuras de decisión son las siguientes:"
   ]
  },
  {
   "cell_type": "markdown",
   "id": "5ef0e750",
   "metadata": {},
   "source": [
    "1. Estructura de decisión simple **`if`**: permite ejecutar un bloque de código si se cumple una condición determinada. Si la condición no se cumple, el bloque no se ejecuta."
   ]
  },
  {
   "cell_type": "code",
   "execution_count": null,
   "id": "ac66bf56",
   "metadata": {},
   "outputs": [],
   "source": [
    "if condicion:\n",
    "    # bloque de código que se ejecuta si la condición es verdadera"
   ]
  },
  {
   "cell_type": "markdown",
   "id": "da0d0e7e",
   "metadata": {},
   "source": [
    "2. Estructura de decisión compuesta **`if-else`**: permite ejecutar un bloque de código si se cumple una condición determinada y otro bloque de código si la condición no se cumple.\n"
   ]
  },
  {
   "cell_type": "code",
   "execution_count": null,
   "id": "2809dff1",
   "metadata": {},
   "outputs": [],
   "source": [
    "if condicion:\n",
    "    # bloque de código que se ejecuta si la condición es verdadera\n",
    "else:\n",
    "    # bloque de código que se ejecuta si la condición es falsa"
   ]
  },
  {
   "cell_type": "markdown",
   "id": "ea6471ff",
   "metadata": {},
   "source": [
    "3. Estructura de decisión anidada **`if-elif-else`**: permite evaluar varias condiciones y ejecutar un bloque de código específico en función de la primera condición que se cumpla.   "
   ]
  },
  {
   "cell_type": "code",
   "execution_count": null,
   "id": "3399b453",
   "metadata": {},
   "outputs": [],
   "source": [
    "if condicion1:\n",
    "        # bloque de código que se ejecuta si la condición1 es verdadera\n",
    "elif condicion2:\n",
    "        # bloque de código que se ejecuta si la condicion1 es falsa y la condicion2 es verdadera\n",
    "else:\n",
    "        # bloque de código que se ejecuta si todas las condiciones anteriores son falsas"
   ]
  },
  {
   "cell_type": "markdown",
   "id": "7a55ec92",
   "metadata": {},
   "source": [
    "### Estructura de bucle\n",
    "\n",
    "Las estructuras de bucle en Python permiten repetir una secuencia de instrucciones varias veces, lo que es especialmente útil cuando se necesita realizar una tarea repetitiva de forma eficiente, las estructuras de bucle en python son las siguientes\n",
    "\n",
    "1. `while`: permite repetir un bloque de código mientras se cumpla una condición determinada."
   ]
  },
  {
   "cell_type": "code",
   "execution_count": null,
   "id": "29e5819c",
   "metadata": {},
   "outputs": [],
   "source": [
    "while condicion:\n",
    "    # bloque de código que se ejecuta mientras la condición sea verdadera"
   ]
  },
  {
   "cell_type": "markdown",
   "id": "93f7f9bb",
   "metadata": {},
   "source": [
    "2. `for`: permite repetir un bloque de código para cada elemento de una secuencia (por ejemplo, una lista, una tupla, un rango de números, etc.)\n"
   ]
  },
  {
   "cell_type": "code",
   "execution_count": null,
   "id": "c27002a3",
   "metadata": {},
   "outputs": [],
   "source": [
    "for elemento in secuencia:\n",
    "     # bloque de código que se ejecuta para cada elemento de la secuencia"
   ]
  },
  {
   "cell_type": "markdown",
   "id": "4c5ea5bf",
   "metadata": {},
   "source": [
    "Con los `for` podemos hacer cosas muy interesantes como iterar simultaneamente en dos objetos diferentes, para esto debemos agregar la función `zip` cuyos parametros serán los objetos a iterar.\n",
    "    "
   ]
  },
  {
   "cell_type": "code",
   "execution_count": null,
   "id": "1fe95421",
   "metadata": {},
   "outputs": [],
   "source": [
    "for numero, caracter in zip(objeto_a_iterar1, objeto_a_iterar2):\n",
    "    print(numero, caracter)"
   ]
  },
  {
   "cell_type": "markdown",
   "id": "cf9bf108",
   "metadata": {},
   "source": [
    "doble `for` esto lo hacemos para iterar j veces por cada i vez que iteremos, es util para trabajar matrices entre otros"
   ]
  },
  {
   "cell_type": "code",
   "execution_count": null,
   "id": "b5c6f823",
   "metadata": {},
   "outputs": [],
   "source": [
    "for i in coleccion:\n",
    "    for j in coleccion_2:\n",
    "        #bloque de codigo que se ejecuta j veces por cada i iteración"
   ]
  },
  {
   "cell_type": "markdown",
   "id": "3b2c487f",
   "metadata": {},
   "source": [
    "### Estructura de salto\n",
    "\n",
    "las estructuras de salto permiten controlar el flujo de ejecución del programa de una manera no secuencial, es decir, saltando a diferentes partes del código en función de ciertas condiciones o eventos. Las estructuras de salto más comunes son las siguientes:\n",
    "\n",
    "1. `break` Permite salir de un bucle, antes de que se complete su ciclo normal\n"
   ]
  },
  {
   "cell_type": "code",
   "execution_count": null,
   "id": "77fcabb2",
   "metadata": {},
   "outputs": [],
   "source": [
    "for elemento in secuencia:\n",
    "    if condicion:\n",
    "        break\n",
    "    # bloque de código que se ejecuta mientras no se cumpla la condición o hasta que se encuentre un break"
   ]
  },
  {
   "cell_type": "markdown",
   "id": "5814c89e",
   "metadata": {},
   "source": [
    "2. `continue` Permite saltar al siguiente ciclo de un bucle sin ejecutar el resto del bloque de codigo en el ciclo actual\n",
    " "
   ]
  },
  {
   "cell_type": "code",
   "execution_count": null,
   "id": "a1200b06",
   "metadata": {},
   "outputs": [],
   "source": [
    "for elemento in secuencia:\n",
    "    if condicion:\n",
    "        continue\n",
    "    # bloque de código que se ejecuta para cada elemento de la secuencia excepto para aquellos que cumplen la condición\n"
   ]
  },
  {
   "cell_type": "markdown",
   "id": "ad1e563b",
   "metadata": {},
   "source": [
    "## Funciones\n",
    "\n",
    "Una función es un bloque de código con un nombre asociado, que recibe cero o más argumentos como entrada, sigue una secuencia la cual ejecuta una operación deseada y devuelve un valor y/o realiza una tarea, este bloque puede ser llamado cuando se necesite, es especialmente util para generar bloques de codigo reutilizable, las funciones se deben crear una vez y luego invocar las cantidades de veces que se necesiten. \n",
    "\n",
    "Para la construcción de una función usamos la palabra reservada `def` luego nombramos como queramos nuestra función y entre paréntesis definimos el parámetro o los parámetros que se deben introducir en la función. por ejemplo:"
   ]
  },
  {
   "cell_type": "code",
   "execution_count": null,
   "id": "06a954c4",
   "metadata": {},
   "outputs": [],
   "source": [
    "def suma(a,b):\n",
    "    print(a+b)"
   ]
  },
  {
   "cell_type": "markdown",
   "id": "e6a5a874",
   "metadata": {},
   "source": [
    "Para llamar o invocar una función ya creada usamos la siguente sintaxis, donde lo que se encuentra dentro de los parentesis es el o los parametros deseados"
   ]
  },
  {
   "cell_type": "code",
   "execution_count": null,
   "id": "8259f122",
   "metadata": {},
   "outputs": [],
   "source": [
    "suma(12,4)"
   ]
  },
  {
   "cell_type": "markdown",
   "id": "4db4bf21",
   "metadata": {},
   "source": [
    "### Configuración de parametros\n",
    "\n",
    "se puede invocar una función sin parametros siempre y cuando la función no defina los parametros como necesarios o les asigne un valor por defecto, para generar una función con parametros por defecto (en donde si no se le asigna algún valor toma un valor por defecto) se deja expresada con igual al dato por defecto"
   ]
  },
  {
   "cell_type": "code",
   "execution_count": null,
   "id": "e929d592",
   "metadata": {},
   "outputs": [],
   "source": [
    "def funcion(a=3,b=5):\n",
    "    print(a*b)"
   ]
  },
  {
   "cell_type": "markdown",
   "id": "bec6da82",
   "metadata": {},
   "source": [
    "Para darle un valor diferente al por defecto a b pero no a la primera variable usamos el identificador  de los parametros"
   ]
  },
  {
   "cell_type": "code",
   "execution_count": null,
   "id": "b8ea5406",
   "metadata": {},
   "outputs": [],
   "source": [
    "def funcion(a=3,b=5):\n",
    "    print(a*b)\n",
    "\n",
    "funcion(b=9)\n"
   ]
  },
  {
   "cell_type": "markdown",
   "id": "be93ba8c",
   "metadata": {},
   "source": [
    "los parametros se ordenan del siguiente modo:\n",
    "\n",
    "- Parametros sin valor por defecto\n",
    "- Parametros con valor por defecto\n",
    "- *args\n",
    "- **kwars\n",
    "\n",
    "estos ultimos dos los explicaremos a mas detalle cuando veamos el desempaquetado de las funciones"
   ]
  },
  {
   "cell_type": "markdown",
   "id": "964588cb",
   "metadata": {},
   "source": [
    "### Return\n",
    "\n",
    "Por defecto las funciones retornan un valor de `None`, nosotros podemos especificar el dato que vamos a retornar, cuando hablo de retornar o devolver me refiero a que la función devuelve un valor o una expresión calculada dentro de la función y lo envia de vuelta al lugar desde donde se invocó la función, el valor devuelto se puede almacenar en una variable o ulizarse en cualquier otra operación que se desee realizar.\n",
    "\n",
    "Despues de que se devuelve el valor, la función se detiene y no se ejecuta más codigo dentro de la función"
   ]
  },
  {
   "cell_type": "code",
   "execution_count": 3,
   "id": "e61397ba",
   "metadata": {},
   "outputs": [
    {
     "name": "stdout",
     "output_type": "stream",
     "text": [
      "9\n"
     ]
    }
   ],
   "source": [
    "def square(x):\n",
    "    return x ** 2\n",
    "\n",
    "result = square(3)\n",
    "print(result)   # Output: 9"
   ]
  },
  {
   "cell_type": "markdown",
   "id": "4701172f",
   "metadata": {},
   "source": [
    "de la misma manera se pueden tener funciones dentro de funciones y retornar funciones, cuando trabajamos con funciones anidadas debemos colocar doble parentesis, donde el primer parentesis contiene los parametros de la función exterior y el segundo parentesis el parametro de la función interior, tal que:"
   ]
  },
  {
   "cell_type": "code",
   "execution_count": null,
   "id": "f126780c",
   "metadata": {},
   "outputs": [],
   "source": [
    "def RetornarFuncion():\n",
    "    def sumar(a, b):\n",
    "        return a + b\n",
    "    return sumar\n",
    "\n",
    "RetornarFuncion()(5,3)\n",
    "#Output = 8 "
   ]
  },
  {
   "cell_type": "markdown",
   "id": "f95de2f8",
   "metadata": {},
   "source": [
    "## Desempaquetado de datos\n",
    "\n",
    "el desempaquetado de datos en Python es una técnica útil para asignar valores de una lista, tupla, diccionario u otro objeto iterable a variables separadas utilizando la sintaxis de asignación multiple.\n",
    "\n",
    "Se puede desempaquetar una lista en n variables (n = len(lista)) de la siguiente manera:"
   ]
  },
  {
   "cell_type": "code",
   "execution_count": null,
   "id": "20e40e9e",
   "metadata": {},
   "outputs": [],
   "source": [
    "lista = [1, 2, 3]\n",
    "a, b, c = lista\n",
    "print(a)   # Output: 1\n",
    "print(b)   # Output: 2\n",
    "print(c)   # Output: 3\n"
   ]
  },
  {
   "cell_type": "markdown",
   "id": "6e283606",
   "metadata": {},
   "source": [
    "También se puede utilizar la misma técnica para desempaquetar datos de tuplas, diccionarios y otros objetos iterables en variables separadas. Por ejemplo, si tenemos un diccionario con dos claves, podemos desempaquetar los valores correspondientes en dos variables utilizando la siguiente sintaxis:"
   ]
  },
  {
   "cell_type": "code",
   "execution_count": null,
   "id": "9dad230c",
   "metadata": {},
   "outputs": [],
   "source": [
    "diccionario = {\"a\": 1, \"b\": 2}\n",
    "x, y = diccionario.values()\n",
    "print(x)   # Output: 1\n",
    "print(y)   # Output: 2"
   ]
  },
  {
   "cell_type": "markdown",
   "id": "484959c2",
   "metadata": {},
   "source": [
    "\n",
    "### Operadores de desempaquetado\n",
    "\n",
    "Los operadores de desempaquetado son operadores que nos permiten extraer todos los elementos no desempaquetados de un objeto iterable, si se intenta desempaquetar una lista de 5 elementos en 2 variables nos va a lanzar un error, dado que se esperaban mas variables para almacenar los datos de la lista"
   ]
  }
 ],
 "metadata": {
  "kernelspec": {
   "display_name": "Python 3 (ipykernel)",
   "language": "python",
   "name": "python3"
  },
  "language_info": {
   "codemirror_mode": {
    "name": "ipython",
    "version": 3
   },
   "file_extension": ".py",
   "mimetype": "text/x-python",
   "name": "python",
   "nbconvert_exporter": "python",
   "pygments_lexer": "ipython3",
   "version": "3.12.1"
  }
 },
 "nbformat": 4,
 "nbformat_minor": 5
}
