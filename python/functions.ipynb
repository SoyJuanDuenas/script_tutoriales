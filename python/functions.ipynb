{
 "cells": [
  {
   "cell_type": "markdown",
   "metadata": {},
   "source": [
    "# FUNCTIONS\n",
    "\n",
    "## Juan David Dueñas Garavito\n",
    "\n",
    "### Introduction\n",
    "\n",
    "Functions play a crucial role when programming in Python. These objects are essential for creating our own code and optimizing its reuse. When we utilize a function in Python, we need to provide it with specific inputs, and after the execution of a process, we anticipate obtaining a meaningful output. This modular approach not only enhances code organization but also facilitates the maintenance and scalability of our programs.\n",
    "\n",
    "To use functions, we should follow a specific grammar to specify the characteristics of the inputs and how these inputs will interact with the process to build the output, the following is the grammar of a function that make a sum between two intergers"
   ]
  },
  {
   "cell_type": "code",
   "execution_count": 1,
   "metadata": {},
   "outputs": [
    {
     "name": "stdout",
     "output_type": "stream",
     "text": [
      "6\n"
     ]
    },
    {
     "data": {
      "text/plain": [
       "6"
      ]
     },
     "execution_count": 1,
     "metadata": {},
     "output_type": "execute_result"
    }
   ],
   "source": [
    "def sum(a,b):\n",
    "\n",
    "    c = a + b\n",
    "    print(c)\n",
    "    return c\n",
    "\n",
    "sum(2,4)"
   ]
  },
  {
   "cell_type": "markdown",
   "metadata": {},
   "source": []
  },
  {
   "cell_type": "markdown",
   "metadata": {},
   "source": []
  }
 ],
 "metadata": {
  "kernelspec": {
   "display_name": "Python 3",
   "language": "python",
   "name": "python3"
  },
  "language_info": {
   "codemirror_mode": {
    "name": "ipython",
    "version": 3
   },
   "file_extension": ".py",
   "mimetype": "text/x-python",
   "name": "python",
   "nbconvert_exporter": "python",
   "pygments_lexer": "ipython3",
   "version": "3.11.5"
  }
 },
 "nbformat": 4,
 "nbformat_minor": 2
}
