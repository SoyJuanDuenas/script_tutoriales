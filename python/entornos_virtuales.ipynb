{
 "cells": [
  {
   "cell_type": "markdown",
   "metadata": {},
   "source": [
    "# Gestion de entornos virtuales con Conda\n",
    "## Juan David Dueñas Garavito\n",
    "### Introducción\n",
    "\n",
    "Los entornos virtuales son un concepto fundamental en el desarrollo de software que permite a los desarrolladores gestionar de manera eficiente las dependencias y las versiones de las bibliotecas utilizadas en sus proyectos. Los entornos virtuales crean entornos aislados que pueden tener sus propias versiones de Python y paquetes, independientes de otros proyectos."
   ]
  }
 ],
 "metadata": {
  "language_info": {
   "name": "python"
  }
 },
 "nbformat": 4,
 "nbformat_minor": 2
}
